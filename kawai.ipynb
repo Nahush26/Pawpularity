{
 "cells": [
  {
   "cell_type": "code",
   "execution_count": 1,
   "metadata": {
    "execution": {
     "iopub.execute_input": "2021-11-02T14:04:51.515661Z",
     "iopub.status.busy": "2021-11-02T14:04:51.515230Z",
     "iopub.status.idle": "2021-11-02T14:04:53.982870Z",
     "shell.execute_reply": "2021-11-02T14:04:53.982068Z",
     "shell.execute_reply.started": "2021-11-02T14:04:51.515555Z"
    }
   },
   "outputs": [],
   "source": [
    "import pandas as pd\n",
    "import numpy as np\n",
    "import torch\n",
    "from torchvision import datasets,transforms\n",
    "import torch.nn.functional as F\n",
    "import torch.nn as nn\n",
    "import torch.optim as optim\n",
    "from PIL import Image\n",
    "import seaborn as sns\n",
    "import matplotlib.pyplot as plt\n",
    "from torch.utils.data import Dataset, DataLoader\n",
    "import os\n",
    "import random\n",
    "import cv2\n",
    "import numpy as np\n",
    "from PIL import Image\n"
   ]
  },
  {
   "cell_type": "code",
   "execution_count": 2,
   "metadata": {
    "execution": {
     "iopub.execute_input": "2021-11-02T14:05:00.496466Z",
     "iopub.status.busy": "2021-11-02T14:05:00.495916Z",
     "iopub.status.idle": "2021-11-02T14:05:00.534286Z",
     "shell.execute_reply": "2021-11-02T14:05:00.533614Z",
     "shell.execute_reply.started": "2021-11-02T14:05:00.496427Z"
    }
   },
   "outputs": [],
   "source": [
    "train = pd.read_csv('../input/petfinder-pawpularity-score/train.csv')"
   ]
  },
  {
   "cell_type": "code",
   "execution_count": 3,
   "metadata": {
    "execution": {
     "iopub.execute_input": "2021-11-02T14:05:01.984582Z",
     "iopub.status.busy": "2021-11-02T14:05:01.983910Z",
     "iopub.status.idle": "2021-11-02T14:05:02.056715Z",
     "shell.execute_reply": "2021-11-02T14:05:02.055676Z",
     "shell.execute_reply.started": "2021-11-02T14:05:01.984544Z"
    }
   },
   "outputs": [],
   "source": [
    "train.describe()"
   ]
  },
  {
   "cell_type": "code",
   "execution_count": 5,
   "metadata": {
    "execution": {
     "iopub.execute_input": "2021-11-02T14:05:12.792185Z",
     "iopub.status.busy": "2021-11-02T14:05:12.791646Z",
     "iopub.status.idle": "2021-11-02T14:05:12.807279Z",
     "shell.execute_reply": "2021-11-02T14:05:12.806479Z",
     "shell.execute_reply.started": "2021-11-02T14:05:12.792146Z"
    }
   },
   "outputs": [],
   "source": [
    "train.head()"
   ]
  },
  {
   "cell_type": "code",
   "execution_count": 6,
   "metadata": {
    "execution": {
     "iopub.execute_input": "2021-11-02T14:05:13.590095Z",
     "iopub.status.busy": "2021-11-02T14:05:13.589574Z",
     "iopub.status.idle": "2021-11-02T14:05:13.598242Z",
     "shell.execute_reply": "2021-11-02T14:05:13.597372Z",
     "shell.execute_reply.started": "2021-11-02T14:05:13.590047Z"
    }
   },
   "outputs": [],
   "source": [
    "idcol = train['Id']\n",
    "idcol.head()"
   ]
  },
  {
   "cell_type": "code",
   "execution_count": 7,
   "metadata": {
    "execution": {
     "iopub.execute_input": "2021-11-02T14:05:14.886200Z",
     "iopub.status.busy": "2021-11-02T14:05:14.885670Z",
     "iopub.status.idle": "2021-11-02T14:05:18.075900Z",
     "shell.execute_reply": "2021-11-02T14:05:18.075107Z",
     "shell.execute_reply.started": "2021-11-02T14:05:14.886162Z"
    }
   },
   "outputs": [],
   "source": [
    "direct = '../input/petfinder-pawpularity-score/train'\n",
    "for i in range(idcol.shape[0]):\n",
    "    idcol[i] = os.path.join(direct, f'{idcol[i]}.jpg')\n"
   ]
  },
  {
   "cell_type": "code",
   "execution_count": 8,
   "metadata": {
    "execution": {
     "iopub.execute_input": "2021-11-02T14:05:18.077749Z",
     "iopub.status.busy": "2021-11-02T14:05:18.077509Z",
     "iopub.status.idle": "2021-11-02T14:05:18.093636Z",
     "shell.execute_reply": "2021-11-02T14:05:18.092837Z",
     "shell.execute_reply.started": "2021-11-02T14:05:18.077716Z"
    }
   },
   "outputs": [],
   "source": [
    "train.head()"
   ]
  },
  {
   "cell_type": "code",
   "execution_count": 9,
   "metadata": {
    "execution": {
     "iopub.execute_input": "2021-11-02T14:05:26.980311Z",
     "iopub.status.busy": "2021-11-02T14:05:26.980023Z",
     "iopub.status.idle": "2021-11-02T14:05:26.987690Z",
     "shell.execute_reply": "2021-11-02T14:05:26.984895Z",
     "shell.execute_reply.started": "2021-11-02T14:05:26.980283Z"
    }
   },
   "outputs": [],
   "source": [
    "edtrain = train.drop(['Id'],axis = 1)"
   ]
  },
  {
   "cell_type": "code",
   "execution_count": 10,
   "metadata": {
    "execution": {
     "iopub.execute_input": "2021-11-02T14:05:27.828444Z",
     "iopub.status.busy": "2021-11-02T14:05:27.827857Z",
     "iopub.status.idle": "2021-11-02T14:05:28.249009Z",
     "shell.execute_reply": "2021-11-02T14:05:28.248329Z",
     "shell.execute_reply.started": "2021-11-02T14:05:27.828389Z"
    }
   },
   "outputs": [],
   "source": [
    "corr_matrix = edtrain.corr()\n",
    "sns.heatmap(corr_matrix)"
   ]
  },
  {
   "cell_type": "code",
   "execution_count": 11,
   "metadata": {
    "execution": {
     "iopub.execute_input": "2021-11-02T14:05:28.862935Z",
     "iopub.status.busy": "2021-11-02T14:05:28.862438Z",
     "iopub.status.idle": "2021-11-02T14:05:30.044694Z",
     "shell.execute_reply": "2021-11-02T14:05:30.043999Z",
     "shell.execute_reply.started": "2021-11-02T14:05:28.862898Z"
    }
   },
   "outputs": [],
   "source": [
    "sns.jointplot(x=\"Info\", y=\"Collage\", data=edtrain, kind=\"scatter\")\n",
    "sns.jointplot(x=\"Face\", y=\"Eyes\", data=edtrain, kind=\"scatter\")"
   ]
  },
  {
   "cell_type": "code",
   "execution_count": 12,
   "metadata": {
    "execution": {
     "iopub.execute_input": "2021-11-02T14:05:30.046557Z",
     "iopub.status.busy": "2021-11-02T14:05:30.046107Z",
     "iopub.status.idle": "2021-11-02T14:05:30.344826Z",
     "shell.execute_reply": "2021-11-02T14:05:30.344057Z",
     "shell.execute_reply.started": "2021-11-02T14:05:30.046520Z"
    }
   },
   "outputs": [],
   "source": [
    "fig, ax = plt.subplots(1,1, figsize=(12, 9))\n",
    "sns.histplot(x='Pawpularity', data=train)\n",
    "plt.show()"
   ]
  },
  {
   "cell_type": "code",
   "execution_count": 13,
   "metadata": {
    "execution": {
     "iopub.execute_input": "2021-11-02T14:05:36.039132Z",
     "iopub.status.busy": "2021-11-02T14:05:36.038861Z",
     "iopub.status.idle": "2021-11-02T14:05:36.046574Z",
     "shell.execute_reply": "2021-11-02T14:05:36.045642Z",
     "shell.execute_reply.started": "2021-11-02T14:05:36.039104Z"
    }
   },
   "outputs": [],
   "source": [
    "class Pawpularity(Dataset):\n",
    "    def __init__(self,path,targets,transform = None):\n",
    "        self.path = path\n",
    "        self.targets = targets\n",
    "        self.transform = transform\n",
    "    \n",
    "    def __len__(self):\n",
    "        return len(self.path)\n",
    "    \n",
    "    def __getitem__(self,idx):\n",
    "        ipath = self.path[idx]\n",
    "        image = Image.open(ipath)\n",
    "        #image = cv2.imread(ipath)\n",
    "        #image = cv2.cvtColor(image, cv2.COLOR_BGR2RGB)\n",
    "        conv = transforms.ToTensor()\n",
    "        image = conv(image)\n",
    "        #image = torch.rot90(image,1,[1,2])\n",
    "        if self.transform is not None:\n",
    "            image = self.transform(image)\n",
    "        #print(image.size)\n",
    "        #conv = transforms.ToTensor()\n",
    "        #image = conv(image)\n",
    "        image = torch.rot90(image,1,[1,2])\n",
    "        \n",
    "        label = torch.tensor(self.targets[idx]).float()\n",
    "        return image,label"
   ]
  },
  {
   "cell_type": "code",
   "execution_count": 14,
   "metadata": {
    "execution": {
     "iopub.execute_input": "2021-11-02T14:05:37.300111Z",
     "iopub.status.busy": "2021-11-02T14:05:37.299852Z",
     "iopub.status.idle": "2021-11-02T14:05:37.304964Z",
     "shell.execute_reply": "2021-11-02T14:05:37.304273Z",
     "shell.execute_reply.started": "2021-11-02T14:05:37.300081Z"
    }
   },
   "outputs": [],
   "source": [
    "transformations = transforms.Compose([\n",
    "    transforms.Resize(224),\n",
    "    transforms.CenterCrop(192),\n",
    "    transforms.Normalize(mean=[0.485, 0.456, 0.406], std=[0.229, 0.224, 0.225])\n",
    "])"
   ]
  },
  {
   "cell_type": "code",
   "execution_count": 15,
   "metadata": {
    "execution": {
     "iopub.execute_input": "2021-11-02T14:05:40.364871Z",
     "iopub.status.busy": "2021-11-02T14:05:40.364043Z",
     "iopub.status.idle": "2021-11-02T14:05:40.369924Z",
     "shell.execute_reply": "2021-11-02T14:05:40.369063Z",
     "shell.execute_reply.started": "2021-11-02T14:05:40.364814Z"
    }
   },
   "outputs": [],
   "source": [
    "paths = train['Id']\n",
    "target = train['Pawpularity']\n",
    "cutedata = Pawpularity(path  = paths.values,targets = target , transform = transformations)\n"
   ]
  },
  {
   "cell_type": "code",
   "execution_count": 16,
   "metadata": {
    "execution": {
     "iopub.execute_input": "2021-11-02T14:05:43.415198Z",
     "iopub.status.busy": "2021-11-02T14:05:43.414679Z",
     "iopub.status.idle": "2021-11-02T14:05:43.420910Z",
     "shell.execute_reply": "2021-11-02T14:05:43.420196Z",
     "shell.execute_reply.started": "2021-11-02T14:05:43.415162Z"
    }
   },
   "outputs": [],
   "source": [
    "def imageplot(dataset = cutedata, count =3):\n",
    "    plt.figure(figsize = (20,20))\n",
    "    for i in range(count):\n",
    "        rand = random.randint(0, len(dataset))\n",
    "        image,label = dataset[rand]\n",
    "        plt.subplot(1, count, i%count +1)\n",
    "        plt.axis('off')\n",
    "        plt.imshow(image.permute(2, 1, 0))\n",
    "        plt.title(f'Pawpularity: {label}')"
   ]
  },
  {
   "cell_type": "code",
   "execution_count": 17,
   "metadata": {
    "execution": {
     "iopub.execute_input": "2021-11-02T14:05:45.105750Z",
     "iopub.status.busy": "2021-11-02T14:05:45.105207Z",
     "iopub.status.idle": "2021-11-02T14:05:47.557367Z",
     "shell.execute_reply": "2021-11-02T14:05:47.556297Z",
     "shell.execute_reply.started": "2021-11-02T14:05:45.105712Z"
    }
   },
   "outputs": [],
   "source": [
    "for i in range(4):\n",
    "    imageplot(count=4)"
   ]
  },
  {
   "cell_type": "code",
   "execution_count": 18,
   "metadata": {
    "execution": {
     "iopub.execute_input": "2021-11-02T14:05:51.116122Z",
     "iopub.status.busy": "2021-11-02T14:05:51.115860Z",
     "iopub.status.idle": "2021-11-02T14:05:51.127780Z",
     "shell.execute_reply": "2021-11-02T14:05:51.126773Z",
     "shell.execute_reply.started": "2021-11-02T14:05:51.116092Z"
    }
   },
   "outputs": [],
   "source": [
    "train_loader, val_loader = torch.utils.data.random_split(cutedata,[9912-1982,1982],generator=torch.Generator().manual_seed(42))\n",
    "train_loader = DataLoader(dataset=train_loader, \n",
    "                          batch_size=64, \n",
    "                          shuffle=True)\n",
    "\n",
    "val_loader = DataLoader(dataset=val_loader, \n",
    "                         batch_size=64, \n",
    "                         shuffle=False)"
   ]
  },
  {
   "cell_type": "code",
   "execution_count": 19,
   "metadata": {
    "execution": {
     "iopub.execute_input": "2021-11-02T14:10:06.857668Z",
     "iopub.status.busy": "2021-11-02T14:10:06.856926Z",
     "iopub.status.idle": "2021-11-02T14:10:06.864204Z",
     "shell.execute_reply": "2021-11-02T14:10:06.863540Z",
     "shell.execute_reply.started": "2021-11-02T14:10:06.857629Z"
    }
   },
   "outputs": [],
   "source": [
    "def flatten(x):\n",
    "    N = x.shape[0]\n",
    "    return x.view(N, -1) "
   ]
  },
  {
   "cell_type": "code",
   "execution_count": 20,
   "metadata": {
    "execution": {
     "iopub.execute_input": "2021-11-02T14:10:07.352286Z",
     "iopub.status.busy": "2021-11-02T14:10:07.351841Z",
     "iopub.status.idle": "2021-11-02T14:10:07.362828Z",
     "shell.execute_reply": "2021-11-02T14:10:07.361540Z",
     "shell.execute_reply.started": "2021-11-02T14:10:07.352249Z"
    }
   },
   "outputs": [],
   "source": [
    "class skipper(nn.Module):\n",
    "    def __init__(self,width):\n",
    "        super(skipper,self).__init__()\n",
    "        #making a res block using sequential inside module hehe\n",
    "        self.resb1 = nn.Sequential(\n",
    "        nn.Conv2d(in_channels = width[0] , \n",
    "                  out_channels = width[1], \n",
    "                  kernel_size= (3,3),\n",
    "                  stride = (1,1),\n",
    "                  padding = 'same',\n",
    "                  bias = True\n",
    "                 ),\n",
    "        nn.BatchNorm2d(width[1]),\n",
    "        nn.ReLU(),\n",
    "        nn.Conv2d(in_channels = width[1],\n",
    "                  out_channels = width[2],\n",
    "                  kernel_size = (3,3),\n",
    "                  stride = (1,1),\n",
    "                  padding = 'same',\n",
    "                  bias = True\n",
    "                 ),\n",
    "        nn.BatchNorm2d(width[2]),\n",
    "        nn.MaxPool2d(kernel_size = (2,2),stride = (2,2),padding = 0)\n",
    "                  \n",
    "        )\n",
    "        self.skip = nn.Sequential(\n",
    "        nn.Conv2d(in_channels = width[0],\n",
    "                  out_channels = width[2],\n",
    "                  kernel_size = (1,1),\n",
    "                  padding = 'same',\n",
    "                  bias = True\n",
    "                 ),\n",
    "        nn.BatchNorm2d(width[2]),\n",
    "        nn.MaxPool2d(kernel_size = (2,2),stride = (2,2),padding = 0)\n",
    "        )\n",
    "    def forward(self,x):\n",
    "        #cut = x\n",
    "        out1 = self.resb1(x)\n",
    "        out2 = self.skip(x)\n",
    "        x = F.relu(out1+out2)\n",
    "        return x\n",
    "        \n",
    "        "
   ]
  },
  {
   "cell_type": "code",
   "execution_count": 21,
   "metadata": {
    "execution": {
     "iopub.execute_input": "2021-11-02T14:10:11.918031Z",
     "iopub.status.busy": "2021-11-02T14:10:11.917354Z",
     "iopub.status.idle": "2021-11-02T14:10:11.925625Z",
     "shell.execute_reply": "2021-11-02T14:10:11.924822Z",
     "shell.execute_reply.started": "2021-11-02T14:10:11.917995Z"
    }
   },
   "outputs": [],
   "source": [
    "class network(nn.Module):\n",
    "    def __init__(self):\n",
    "        super(network,self).__init__()\n",
    "        self.block1 =  skipper(width= [3,6,9])\n",
    "        self.reduce = nn.MaxPool2d(kernel_size = (2,2),stride = (2,2),padding = 0)\n",
    "        self.block2 =  skipper(width= [9,12,15])\n",
    "        self.fc1    =  nn.Linear(15*12*12,200)\n",
    "        self.fc2    =  nn.Linear(200,1)\n",
    "        \n",
    "    def forward(self,x):\n",
    "        out = self.block1(x)\n",
    "        out = self.reduce(out)\n",
    "        out = self.block2(out)\n",
    "        out = self.reduce(out)\n",
    "        out = flatten(out)\n",
    "        out = self.fc1(out)\n",
    "        score = self.fc2(out)\n",
    "        return score\n",
    "        \n",
    " "
   ]
  },
  {
   "cell_type": "code",
   "execution_count": 22,
   "metadata": {
    "execution": {
     "iopub.execute_input": "2021-11-02T14:10:14.958359Z",
     "iopub.status.busy": "2021-11-02T14:10:14.957822Z",
     "iopub.status.idle": "2021-11-02T14:10:15.009204Z",
     "shell.execute_reply": "2021-11-02T14:10:15.008294Z",
     "shell.execute_reply.started": "2021-11-02T14:10:14.958320Z"
    }
   },
   "outputs": [],
   "source": [
    "device = torch.device(\"cuda:0\" if torch.cuda.is_available() else \"cpu\")\n",
    "if(torch.cuda.is_available()):\n",
    "  print(\"The device is \" + torch.cuda.get_device_name())\n",
    "else:\n",
    "    print(\"Using cpu no gpu available\")\n",
    "print('\\n',device)"
   ]
  },
  {
   "cell_type": "code",
   "execution_count": 23,
   "metadata": {
    "execution": {
     "iopub.execute_input": "2021-11-02T14:10:15.446103Z",
     "iopub.status.busy": "2021-11-02T14:10:15.445586Z",
     "iopub.status.idle": "2021-11-02T14:10:15.450713Z",
     "shell.execute_reply": "2021-11-02T14:10:15.449667Z",
     "shell.execute_reply.started": "2021-11-02T14:10:15.446066Z"
    }
   },
   "outputs": [],
   "source": [
    "#hyperparameterspace\n",
    "lr = 1e-2\n",
    "regp = 1e-3\n",
    "epochs = 15\n",
    "batch_size = 64"
   ]
  },
  {
   "cell_type": "code",
   "execution_count": 24,
   "metadata": {
    "execution": {
     "iopub.execute_input": "2021-11-02T14:10:16.285807Z",
     "iopub.status.busy": "2021-11-02T14:10:16.285551Z",
     "iopub.status.idle": "2021-11-02T14:10:19.016188Z",
     "shell.execute_reply": "2021-11-02T14:10:19.015439Z",
     "shell.execute_reply.started": "2021-11-02T14:10:16.285777Z"
    }
   },
   "outputs": [],
   "source": [
    "first_model = network()\n",
    "first_model = first_model.to(device)\n",
    "optimizer = torch.optim.Adam(first_model.parameters(),lr = lr)"
   ]
  },
  {
   "cell_type": "code",
   "execution_count": 25,
   "metadata": {
    "execution": {
     "iopub.execute_input": "2021-11-02T14:30:23.522007Z",
     "iopub.status.busy": "2021-11-02T14:30:23.521440Z",
     "iopub.status.idle": "2021-11-02T14:30:23.529189Z",
     "shell.execute_reply": "2021-11-02T14:30:23.528219Z",
     "shell.execute_reply.started": "2021-11-02T14:30:23.521966Z"
    }
   },
   "outputs": [],
   "source": [
    "def metric(model,data):\n",
    "    msesum = 0\n",
    "    N = len(data)\n",
    "    for i, (image, target) in enumerate(data):\n",
    "        print(i)\n",
    "        image = image.to(device)\n",
    "        target = target.to(device)\n",
    "        scores = model(image)\n",
    "        #print(scores.shape)\n",
    "        a,b = scores.shape\n",
    "        target = torch.reshape(target,(a,1))\n",
    "        function = nn.MSELoss()\n",
    "        mse   = function(scores,target)\n",
    "        msesum +=mse\n",
    "    return np.sqrt(msesum/N)"
   ]
  },
  {
   "cell_type": "code",
   "execution_count": 26,
   "metadata": {
    "execution": {
     "iopub.execute_input": "2021-11-02T14:30:25.093222Z",
     "iopub.status.busy": "2021-11-02T14:30:25.092732Z",
     "iopub.status.idle": "2021-11-02T14:30:47.146454Z",
     "shell.execute_reply": "2021-11-02T14:30:47.145283Z",
     "shell.execute_reply.started": "2021-11-02T14:30:25.093186Z"
    }
   },
   "outputs": [],
   "source": [
    "a = metric(first_model,train_loader)    "
   ]
  },
  {
   "cell_type": "code",
   "execution_count": null,
   "metadata": {
    "execution": {
     "iopub.execute_input": "2021-11-02T13:48:52.814819Z",
     "iopub.status.busy": "2021-11-02T13:48:52.814136Z",
     "iopub.status.idle": "2021-11-02T13:51:09.092102Z",
     "shell.execute_reply": "2021-11-02T13:51:09.091163Z",
     "shell.execute_reply.started": "2021-11-02T13:48:52.814784Z"
    }
   },
   "outputs": [],
   "source": [
    "for epoch in range(epochs):\n",
    "    first_model = first_model.train()\n",
    "    for bno,(image,target) in enumerate(train_loader):\n",
    "        image = image.to(device)\n",
    "        target = target.to(device)\n",
    "        \n",
    "        scores = first_model(image)\n",
    "        a,b = scores.shape\n",
    "        target = torch.reshape(target,(a,1))\n",
    "        #print(scores.shape,target.shape)\n",
    "        function = nn.MSELoss()\n",
    "        loss = function(scores,target)\n",
    "        \n",
    "        optimizer.zero_grad()\n",
    "        \n",
    "        loss.backward()\n",
    "        \n",
    "        optimizer.step()\n",
    "        \n",
    "        if not bno % 15:\n",
    "            print ('Epoch: %03d/%03d | Batch %06d/%06d | Cost: %.4f' \n",
    "                   %(epoch+1, epochs, bno, \n",
    "                     len(train_loader)//batch_size, loss))\n",
    "            \n",
    "    first_model = first_model.eval() \n",
    "    with torch.set_grad_enabled(False): \n",
    "        print('Epoch: %03d/%03d training accuracy: %.2f%%' % (\n",
    "              epoch+1, epochs, \n",
    "              metric(first_model, train_loader)))\n",
    "        if(epoch ==epochs-1):\n",
    "             print('Epoch: %03d/%03d val accuracy: %.2f%%' % (\n",
    "               epoch+1, epochs, \n",
    "               metric(first_model, val_loader)))\n",
    "        \n",
    "        \n",
    "        "
   ]
  }
 ],
 "metadata": {
  "kernelspec": {
   "display_name": "Python 3 (ipykernel)",
   "language": "python",
   "name": "python3"
  },
  "language_info": {
   "codemirror_mode": {
    "name": "ipython",
    "version": 3
   },
   "file_extension": ".py",
   "mimetype": "text/x-python",
   "name": "python",
   "nbconvert_exporter": "python",
   "pygments_lexer": "ipython3",
   "version": "3.7.11"
  }
 },
 "nbformat": 4,
 "nbformat_minor": 4
}
